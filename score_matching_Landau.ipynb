{
 "cells": [
  {
   "cell_type": "code",
   "execution_count": null,
   "metadata": {},
   "outputs": [],
   "source": [
    "import numpy as np\n",
    "import torch \n",
    "import Phi\n",
    "\n",
    "device = torch.device('cuda:0' if torch.cuda.is_available() else 'cpu')"
   ]
  },
  {
   "cell_type": "code",
   "execution_count": null,
   "metadata": {},
   "outputs": [],
   "source": [
    "class Score_Matching_Landau():\n",
    "    def __init__(self, v):\n",
    "        \n",
    "        self.v = v.to(device) # velocity\n",
    "        self.nex = v.shape[0] # number of particles\n",
    "        self.d = v.shape[1] # dimension\n",
    "\n",
    "        # neural network\n",
    "        self.net = Phi.Phi(nTh=3, m=20, d=self.d).to(device)\n",
    "\n",
    "        # optimizer Adam\n",
    "        self.optimizer = torch.optim.Adam(self.net.parameters(), lr=1e-3)\n",
    "        self.iter = 0\n",
    "\n",
    "    def proj(self, v_diff, norm):\n",
    "        v_temp = v_diff[:,None,:]\n",
    "        proj = (norm**2)[:,:,None] * torch.eye(self.d).to(device) - v_temp.permute(0,2,1) * v_temp\n",
    "        return proj\n",
    "\n",
    "    def loss(self): # score-matching\n",
    "        self.optimizer.zero_grad()\n",
    "\n",
    "        u, div_u = self.net.trHess(self.v, justGrad=False)\n",
    "        loss = ( torch.norm(u)**2 + 2*torch.sum(div_u) ) / self.nex\n",
    "        loss.backward()\n",
    "\n",
    "        error = self.error(self.v)\n",
    "        if self.iter % 100 == 0:\n",
    "            print('Iter %d, Loss: %.5e' % (self.iter, loss.item()))\n",
    "            print(error)\n",
    "\n",
    "        self.iter += 1\n",
    "        return loss\n",
    "    \n",
    "\n",
    "    def train(self):\n",
    "        while self.iter <= 15000:\n",
    "            self.optimizer.step(self.loss)\n",
    "        \n",
    "    def predict(self, v):\n",
    "        u = self.net.trHess(v, justGrad=True)\n",
    "        return u\n",
    "\n",
    "    def error(self, v):\n",
    "        error = torch.sum((self.predict(v) + v) / v) / self.nex\n",
    "        return error"
   ]
  },
  {
   "cell_type": "code",
   "execution_count": null,
   "metadata": {},
   "outputs": [],
   "source": [
    "nex = 10000   \n",
    "d = 1\n",
    "v = torch.randn(nex,d)\n",
    "\n",
    "model = Score_Matching_Landau(v)\n",
    "model.train()"
   ]
  }
 ],
 "metadata": {
  "kernelspec": {
   "display_name": "pytorch_cuda117",
   "language": "python",
   "name": "python3"
  },
  "language_info": {
   "codemirror_mode": {
    "name": "ipython",
    "version": 3
   },
   "file_extension": ".py",
   "mimetype": "text/x-python",
   "name": "python",
   "nbconvert_exporter": "python",
   "pygments_lexer": "ipython3",
   "version": "3.9.15"
  }
 },
 "nbformat": 4,
 "nbformat_minor": 2
}
