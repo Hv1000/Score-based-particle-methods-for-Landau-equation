{
 "cells": [
  {
   "cell_type": "code",
   "execution_count": null,
   "metadata": {},
   "outputs": [],
   "source": [
    "import numpy as np\n",
    "import score_matching\n",
    "import sampling\n",
    "import updates"
   ]
  },
  {
   "cell_type": "code",
   "execution_count": null,
   "metadata": {},
   "outputs": [],
   "source": [
    "T=5\n",
    "t=0\n",
    "dt=0.01\n",
    "Nt=int((T-t)/dt)\n",
    "\n",
    "## network size\n",
    "m=32\n",
    "nTh=4\n",
    "d=2\n",
    "\n",
    "## initial sampling\n",
    "nex=150**2\n",
    "sampling_model = sampling.Sampling(nex=nex, d=d, t=t, seed=23)\n",
    "v = np.array(sampling_model.rejection_sampling())\n",
    "\n",
    "# initial density\n",
    "f_net = updates.f_ext(v, t)\n",
    "\n",
    "fisher_divergence_evo=[]\n",
    "energy_evo=[]\n",
    "entropy_decay_rate_evo=[]\n",
    "traj=[v]"
   ]
  },
  {
   "cell_type": "code",
   "execution_count": null,
   "metadata": {},
   "outputs": [],
   "source": [
    "'''evolution'''\n",
    "for nt in range(Nt):\n",
    "    print('current time: ', t)\n",
    "    model_sm = score_matching.ScoreMatching(v=v, t=t, nex=nex, d=d, m=m, nTh=nTh)\n",
    "    if nt==0:\n",
    "        fisher_divergence = model_sm.L2_train(tol=5e-4)\n",
    "        fisher_divergence_evo.append(fisher_divergence)\n",
    "    else:\n",
    "        fisher_divergence = model_sm.ism_train(max_iter=25)\n",
    "        fisher_divergence_evo.append(fisher_divergence)\n",
    "    model_sm.save_model()\n",
    "    \n",
    "    # compute score and score_jac at t_{n}\n",
    "    score = model_sm.score(v)\n",
    "    score_jac = model_sm.score_jac(v)\n",
    "\n",
    "    model_par = updates.Particle(v=v, score=score, score_jac=score_jac, dt=dt, d=d, C=1/16)\n",
    "    # compute energy\n",
    "    energy = updates.energy(v)\n",
    "    energy_evo.append(energy)\n",
    "    # compute v at t_{n+1}\n",
    "    v, entropy_decay_rate = model_par.vel_and_entropy()\n",
    "    traj.append(v)\n",
    "    entropy_decay_rate_evo.append(entropy_decay_rate)\n",
    "    # update density\n",
    "    f_net = model_par.density(f_net)\n",
    "\n",
    "    t += dt"
   ]
  }
 ],
 "metadata": {
  "kernelspec": {
   "display_name": "pytorch_cuda117",
   "language": "python",
   "name": "python3"
  },
  "language_info": {
   "codemirror_mode": {
    "name": "ipython",
    "version": 3
   },
   "file_extension": ".py",
   "mimetype": "text/x-python",
   "name": "python",
   "nbconvert_exporter": "python",
   "pygments_lexer": "ipython3",
   "version": "3.11.7"
  }
 },
 "nbformat": 4,
 "nbformat_minor": 2
}
