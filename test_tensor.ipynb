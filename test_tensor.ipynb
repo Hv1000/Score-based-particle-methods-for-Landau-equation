{
 "cells": [
  {
   "cell_type": "code",
   "execution_count": 1,
   "metadata": {},
   "outputs": [],
   "source": [
    "import numpy as np\n",
    "import torch"
   ]
  },
  {
   "cell_type": "code",
   "execution_count": 5,
   "metadata": {},
   "outputs": [
    {
     "data": {
      "text/plain": [
       "tensor(30.0000)"
      ]
     },
     "execution_count": 5,
     "metadata": {},
     "output_type": "execute_result"
    }
   ],
   "source": [
    "a=torch.tensor([[1.0,2.0],[3.0,4.0]])\n",
    "torch.norm(a)**2"
   ]
  },
  {
   "cell_type": "code",
   "execution_count": null,
   "metadata": {},
   "outputs": [],
   "source": [
    "# proj\n",
    "\n",
    "b=torch.tensor([[[1.0,2.0]], [[2.0,3.0]]])\n",
    "c=b.permute(0,2,1)\n",
    "cross=c*b\n",
    "print(cross)\n",
    "\n",
    "\n",
    "d = torch.tensor([[1.0,1.0],[1.0,2.0]])\n",
    "norm = torch.norm(d,dim=1,keepdim=True)\n",
    "print((norm**2)[:,:,None] * torch.eye(2))\n",
    "\n",
    "\n",
    "#print(torch.matmul(cross,d[:,:,None]))\n",
    "vec= torch.matmul(d[:,None,:], cross)\n",
    "print(vec)\n",
    "v=(norm**2)[:,:,None] * vec\n",
    "print(v)\n",
    "v=torch.squeeze(v, dim=1)\n",
    "print(v)\n",
    "torch.sum(v,dim=0)"
   ]
  },
  {
   "cell_type": "code",
   "execution_count": null,
   "metadata": {},
   "outputs": [],
   "source": [
    "i=torch.tensor([ [[1.0,2.0],[3.0,4.0]], [[3.0,4.0],[5.0,6.0]] ])\n",
    "torch.sum(torch.sum(i, dim=1), dim=1)"
   ]
  },
  {
   "cell_type": "code",
   "execution_count": null,
   "metadata": {},
   "outputs": [],
   "source": [
    "a=torch.tensor([[1.0,2.0],[3.0,4.0]])\n",
    "torch.sum(a,dim=0)"
   ]
  },
  {
   "cell_type": "code",
   "execution_count": null,
   "metadata": {},
   "outputs": [],
   "source": [
    "begin=time.time()\n",
    "torch.squeeze(torch.matmul(a[:,None,:], torch.matmul(i, a[:,:,None]) ), dim=1)"
   ]
  },
  {
   "cell_type": "code",
   "execution_count": null,
   "metadata": {},
   "outputs": [],
   "source": [
    "v_diff = torch.tensor([0.0,1.0])-torch.tensor([[2.0,3.0],[3.0,4.0]])\n",
    "norm = torch.norm(v_diff, dim=1, keepdim=True)\n",
    "\n",
    "v_temp = v_diff[:,None,:]\n",
    "proj_i = (norm**2)[:,:,None] * torch.eye(2) - v_temp.permute(0,2,1) * v_temp\n",
    "print(proj_i)\n",
    "print(norm**2)\n",
    "\n",
    "m=torch.squeeze(torch.matmul(a[:,None,:], proj_i), dim=1)\n",
    "print(m)\n",
    "norm**2 * m"
   ]
  },
  {
   "cell_type": "code",
   "execution_count": 13,
   "metadata": {},
   "outputs": [
    {
     "name": "stdout",
     "output_type": "stream",
     "text": [
      "<torch.utils.data.dataloader.DataLoader object at 0x0000021CCEFFC640>\n"
     ]
    }
   ],
   "source": [
    "x = torch.tensor([[1,2],[3,4],[5,6],[7,8],[9,10],[11,12]])\n",
    "v_dataset = torch.utils.data.TensorDataset(x)\n",
    "loader = torch.utils.data.DataLoader(dataset=v_dataset, batch_size=2, shuffle=True)\n",
    "print(loader)"
   ]
  },
  {
   "cell_type": "code",
   "execution_count": 19,
   "metadata": {},
   "outputs": [
    {
     "name": "stdout",
     "output_type": "stream",
     "text": [
      "0\n",
      "1\n",
      "2\n"
     ]
    }
   ],
   "source": [
    "for batch_index, v in enumerate(loader):\n",
    "    print(batch_index)"
   ]
  },
  {
   "cell_type": "code",
   "execution_count": null,
   "metadata": {},
   "outputs": [],
   "source": [
    "idxs = torch.randperm(x.shape[0])\n",
    "for batch_idxs in idxs.split(2):\n",
    "    print(x[batch_idxs])"
   ]
  }
 ],
 "metadata": {
  "kernelspec": {
   "display_name": "pytorch_cuda117",
   "language": "python",
   "name": "python3"
  },
  "language_info": {
   "codemirror_mode": {
    "name": "ipython",
    "version": 3
   },
   "file_extension": ".py",
   "mimetype": "text/x-python",
   "name": "python",
   "nbconvert_exporter": "python",
   "pygments_lexer": "ipython3",
   "version": "3.9.15"
  }
 },
 "nbformat": 4,
 "nbformat_minor": 2
}
